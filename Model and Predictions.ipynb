{
 "cells": [
  {
   "cell_type": "markdown",
   "metadata": {},
   "source": [
    "# Modeling and Predictions\n",
    "\n",
    "### Cleaning\n",
    "1. Weather data prep\n",
    "\n",
    "### Feature Engineering\n",
    "2. Engineering weather features\n",
    "    - Rolling averages\n",
    "    - Combine same-day trap results\n",
    "3. Location weighting\n",
    "4. Clustering\n",
    "5. Combine weather and train datasets\n",
    "6. Interaction effects\n",
    "\n",
    "### Munging\n",
    "7. Undersampling\n",
    "8. Feature selection\n",
    "    - Get dummies \n",
    "    - Scaling\n",
    "    - Concat\n",
    "    - Omit columns not in test dataset\n",
    "    \n",
    "### Modeling\n",
    "9. Train test split\n",
    "10. Modeling\n",
    "11. Predict"
   ]
  },
  {
   "cell_type": "code",
   "execution_count": 1,
   "metadata": {},
   "outputs": [],
   "source": [
    "import pandas as pd\n",
    "import numpy as np\n",
    "import time\n",
    "import matplotlib.pyplot as plt\n",
    "\n",
    "from sklearn.model_selection import train_test_split, GridSearchCV\n",
    "from sklearn.metrics import confusion_matrix, roc_curve, auc\n",
    "from sklearn.preprocessing import StandardScaler, PolynomialFeatures\n",
    "from sklearn.cluster import KMeans, AgglomerativeClustering, DBSCAN\n",
    "\n",
    "# importing models:\n",
    "from sklearn.ensemble import RandomForestClassifier, AdaBoostClassifier, GradientBoostingClassifier, ExtraTreesClassifier\n",
    "from sklearn.naive_bayes import GaussianNB, MultinomialNB, BernoulliNB\n",
    "from sklearn import svm\n",
    "from sklearn.linear_model import LogisticRegression\n",
    "from sklearn.neighbors import KNeighborsClassifier\n",
    "\n",
    "%matplotlib inline\n",
    "\n",
    "all_start_time = time.time() # this is to keep a tab on how long it takes this notebook to run\n"
   ]
  },
  {
   "cell_type": "code",
   "execution_count": 2,
   "metadata": {},
   "outputs": [],
   "source": [
    "train = pd.read_csv('assets/train.csv')\n",
    "test = pd.read_csv('assets/test.csv')\n",
    "dirty_weather = pd.read_csv('assets/weather.csv')"
   ]
  },
  {
   "cell_type": "markdown",
   "metadata": {},
   "source": [
    "## Weather Data Prep:"
   ]
  },
  {
   "cell_type": "code",
   "execution_count": 3,
   "metadata": {},
   "outputs": [],
   "source": [
    "# dropped features from weather:\n",
    "#     sunrise, sunset, hot, cool -deemed unnecessary\n",
    "#     water1 this is entirely missing values\n",
    "#     depth contains only zeros and missing values(for station 2), no information\n",
    "#     Snowfall because all but 13 values were either 0 or missing\n",
    "#     Codesum because that information is contained in precipitation (mostly)\n",
    "\n",
    "to_drop = ['Sunrise', 'Sunset', 'Heat', 'Cool', 'Water1', 'Depth', 'SnowFall', 'CodeSum']\n",
    "weather = dirty_weather.drop(axis = 1, columns = to_drop)\n",
    "\n",
    "# precip \"Trace\" ('T') amounts are defined as less than (0.005 inch) according to chicagotribune\n",
    "weather['PrecipTotal'].replace(to_replace = 'T', value = 0.005, inplace=True, regex = True)"
   ]
  },
  {
   "cell_type": "code",
   "execution_count": 4,
   "metadata": {},
   "outputs": [],
   "source": [
    "for i in range(len(weather)): #for each row in weather\n",
    "    if i != 0:\n",
    "        if weather.loc[i, 'Date'] == weather.loc[i-1, 'Date']: # if the date is the same as the previou value\n",
    "            for col in weather.columns:\n",
    "                if col in ['Station', 'Date']: #skip these columns\n",
    "                    continue\n",
    "                elif col == 'Depart':\n",
    "                    weather.loc[i, 'Depart'] = weather.loc[i-1, 'Depart'] # keep the 'Depart' value from station 1\n",
    "                elif weather.loc[i, col] == 'M':\n",
    "                    weather.loc[i, col] = weather.loc[i-1, col] # if the value is missing, take it from station 1\n",
    "                elif weather.loc[i-1, col] == 'M':\n",
    "                    weather.loc[i-1, col] = weather.loc[i, col] # make sure no 'M's are called from station 1\n",
    "                else:\n",
    "                    weather.loc[i, col] =  (float(weather.loc[i, col]) + float(weather.loc[i-1, col]))/2 # average the data from the two stations\n",
    "            weather.drop(index=(i-1), inplace=True) # drop previous row\n",
    "weather.drop(axis=1, columns = 'Station', inplace=True)"
   ]
  },
  {
   "cell_type": "code",
   "execution_count": 5,
   "metadata": {},
   "outputs": [],
   "source": [
    "# convert 'Date' to datetime object\n",
    "weather['Date'] = weather['Date'].apply(pd.to_datetime, errors='coerce')\n",
    "\n",
    "# turn object columns into numeric datatypes\n",
    "obj_cols = ['WetBulb', 'SeaLevel', 'Tavg', 'AvgSpeed', 'PrecipTotal', 'Depart', 'StnPressure'] \n",
    "weather[obj_cols] = weather[obj_cols].apply(pd.to_numeric, errors='coerce', axis=0)"
   ]
  },
  {
   "cell_type": "markdown",
   "metadata": {},
   "source": [
    "# Engineering Weather Features:"
   ]
  },
  {
   "cell_type": "markdown",
   "metadata": {},
   "source": [
    "### Rolling Averages:"
   ]
  },
  {
   "cell_type": "code",
   "execution_count": 6,
   "metadata": {},
   "outputs": [],
   "source": [
    "# make a running total of precipitation over the past X days_back\n",
    "days_back_precip = 15\n",
    "\n",
    "# create the running_PrecipTotal column\n",
    "weather['running_PrecipTotal'] = weather['PrecipTotal'].rolling(window = days_back_precip).mean()\n",
    "weather['running_PrecipTotal'].fillna(value=0, inplace=True)\n",
    "\n",
    "# create the running_PrecipTotal column\n",
    "days_back_Tavg = 3\n",
    "\n",
    "weather['running_Tavg'] = weather['Tavg'].rolling(window = days_back_Tavg).mean()\n",
    "weather['running_Tavg'].fillna(value=60, inplace=True)\n",
    "\n",
    "# AvgSpeed\n",
    "days_back_AvgSpeed = 3\n",
    "\n",
    "weather['running_AvgSpeed'] = weather['AvgSpeed'].rolling(window = days_back_AvgSpeed).mean()\n",
    "weather['running_AvgSpeed'].fillna(value=10, inplace=True)"
   ]
  },
  {
   "cell_type": "markdown",
   "metadata": {},
   "source": [
    "### Combine same-day trap rows into a single day:"
   ]
  },
  {
   "cell_type": "code",
   "execution_count": 7,
   "metadata": {},
   "outputs": [],
   "source": [
    "# create a new column for each species to prepare it for the loops below\n",
    "\n",
    "species = list(train.Species.unique())\n",
    "for df in [train]: #, test]:\n",
    "    for species_type in species:\n",
    "        df[species_type] = 0"
   ]
  },
  {
   "cell_type": "code",
   "execution_count": 8,
   "metadata": {},
   "outputs": [],
   "source": [
    "#################################################################################\n",
    "# Combine the same-day trap rows\n",
    "#     if this is sorted by date and trap then it will iterate in the right order\n",
    "#################################################################################\n",
    "\n",
    "for i in range(len(train)):\n",
    "    if i != 0:\n",
    "        if (train.loc[i,'Date'] == train.loc[i-1,'Date']) & (train.loc[i,'Trap'] == train.loc[i-1,'Trap']): # conditions for when the previous row has the same date and time value\n",
    "            col = train.loc[i,'Species']\n",
    "            train.loc[i, col] = train.loc[i-1, col] + train.loc[i, 'NumMosquitos'] # put the number of mosquitos in the right species column\n",
    "            for _ in species:\n",
    "                if _ != col:\n",
    "                    train.loc[i, _] = train.loc[i, _] + train.loc[i-1, _] # keep track of the other species counts\n",
    "            if train.loc[i-1, 'WnvPresent'] == 1:\n",
    "                train.loc[i, 'WnvPresent'] = 1    # Keep track of if Wnv is present\n",
    "            train.drop(index=(i-1), inplace=True)   # drop previous duplicate row now that its info is copied\n",
    "        else:\n",
    "            col = train.loc[i,'Species']\n",
    "            train.loc[i, col] = train.loc[i, col] + train.loc[i, 'NumMosquitos'] # keep track of species counts\n",
    "    else: #this should only apply to row_index = 0, it avoids an error from looking back past the first observation\n",
    "        col = train.loc[i,'Species']\n",
    "        train.loc[i, col] += train.loc[i, 'NumMosquitos']\n",
    "train.reset_index(inplace= True)"
   ]
  },
  {
   "cell_type": "code",
   "execution_count": 9,
   "metadata": {},
   "outputs": [],
   "source": [
    "# calculate total mosquitos in each trap\n",
    "train['total_mos'] = train[species].sum(axis=1) \n",
    "\n",
    "# drop species and nummos\n",
    "train.drop(columns = ['Species', 'NumMosquitos'], inplace = True)"
   ]
  },
  {
   "cell_type": "code",
   "execution_count": 10,
   "metadata": {},
   "outputs": [],
   "source": [
    "# Assigning to a week of the year\n",
    "\n",
    "train['Date'] = pd.to_datetime(train['Date'])\n",
    "train['week_no'] = [x.isocalendar()[1] for x in train['Date']]\n",
    "train['peak_season_diff'] = (train['week_no'] - 28) # number of weeks from peak mosq season (week 28)\n",
    "\n",
    "test['Date'] = pd.to_datetime(test['Date'])\n",
    "test['week_no'] = [x.isocalendar()[1] for x in test['Date']]\n",
    "test['peak_season_diff'] = (test['week_no'] - 28) # number of weeks from peak mosq season (week 28)"
   ]
  },
  {
   "cell_type": "code",
   "execution_count": 11,
   "metadata": {},
   "outputs": [],
   "source": [
    "# weight weeks according to mosq pop\n",
    "grand_total_mosq = train['total_mos'].sum()\n",
    "\n",
    "for x in train['week_no'].unique():\n",
    "    week_no_pop = train.loc[(train['week_no'] == x), 'total_mos'].sum()\n",
    "    train.loc[train['week_no'] == x, 'weighted_week_no'] = week_no_pop/grand_total_mosq *100\n",
    "    test.loc[test['week_no'] == x, 'weighted_week_no'] = week_no_pop/grand_total_mosq *100"
   ]
  },
  {
   "cell_type": "markdown",
   "metadata": {},
   "source": [
    "# Location weighting"
   ]
  },
  {
   "cell_type": "code",
   "execution_count": 12,
   "metadata": {},
   "outputs": [],
   "source": [
    "# Make \"trap weight\" feature. If traps have high frequency of WNV, weight them higher."
   ]
  },
  {
   "cell_type": "code",
   "execution_count": 13,
   "metadata": {
    "scrolled": false
   },
   "outputs": [],
   "source": [
    "# Out of number of reports for trap, what % is WNV present?\n",
    "for x in train['Trap'].unique():\n",
    "    num_reports = len(train.loc[train['Trap'] == x])\n",
    "    num_wnv = len(train.loc[(train['Trap'] == x) & (train['WnvPresent'] == 1)])\n",
    "    train.loc[train['Trap'] == x, 'trap_weight'] = num_wnv/num_reports\n",
    "    test.loc[test['Trap'] == x, 'trap_weight'] = num_wnv/num_reports"
   ]
  },
  {
   "cell_type": "code",
   "execution_count": 14,
   "metadata": {},
   "outputs": [
    {
     "data": {
      "text/plain": [
       "0.085172796299003373"
      ]
     },
     "execution_count": 14,
     "metadata": {},
     "output_type": "execute_result"
    }
   ],
   "source": [
    "# Percentage of nulls in test set.\n",
    "test.isnull().sum()['trap_weight'] / len(test)"
   ]
  },
  {
   "cell_type": "code",
   "execution_count": 15,
   "metadata": {},
   "outputs": [],
   "source": [
    "# Fills test NaNs with train avg.\n",
    "test.fillna(train['trap_weight'].mean(), inplace=True)"
   ]
  },
  {
   "cell_type": "markdown",
   "metadata": {},
   "source": [
    "<hr>\n",
    "# Clustering"
   ]
  },
  {
   "cell_type": "code",
   "execution_count": 16,
   "metadata": {},
   "outputs": [
    {
     "name": "stderr",
     "output_type": "stream",
     "text": [
      "/Users/sam/anaconda3/lib/python3.6/site-packages/ipykernel_launcher.py:9: SettingWithCopyWarning: \n",
      "A value is trying to be set on a copy of a slice from a DataFrame.\n",
      "Try using .loc[row_indexer,col_indexer] = value instead\n",
      "\n",
      "See the caveats in the documentation: http://pandas.pydata.org/pandas-docs/stable/indexing.html#indexing-view-versus-copy\n",
      "  if __name__ == '__main__':\n",
      "/Users/sam/anaconda3/lib/python3.6/site-packages/ipykernel_launcher.py:16: SettingWithCopyWarning: \n",
      "A value is trying to be set on a copy of a slice from a DataFrame.\n",
      "Try using .loc[row_indexer,col_indexer] = value instead\n",
      "\n",
      "See the caveats in the documentation: http://pandas.pydata.org/pandas-docs/stable/indexing.html#indexing-view-versus-copy\n",
      "  app.launch_new_instance()\n",
      "/Users/sam/anaconda3/lib/python3.6/site-packages/ipykernel_launcher.py:22: SettingWithCopyWarning: \n",
      "A value is trying to be set on a copy of a slice from a DataFrame.\n",
      "Try using .loc[row_indexer,col_indexer] = value instead\n",
      "\n",
      "See the caveats in the documentation: http://pandas.pydata.org/pandas-docs/stable/indexing.html#indexing-view-versus-copy\n"
     ]
    }
   ],
   "source": [
    "X = train[['Latitude', 'Longitude', 'trap_weight']]\n",
    "\n",
    "n_clusters = 10\n",
    "# if we don't have enough clusters would webe running into the MAUP problem?\n",
    "\n",
    "kmeans = KMeans(n_clusters=n_clusters)\n",
    "kmeans.fit(X)\n",
    "    \n",
    "X['kmeans_label'] = kmeans.labels_\n",
    "train['kmeans_label'] = kmeans.labels_\n",
    "\n",
    "\n",
    "dbs = DBSCAN(eps=0.15, min_samples=7) \n",
    "dbs.fit(X)\n",
    "    \n",
    "X['dbs_label'] = dbs.labels_\n",
    "train['dbs_label'] = dbs.labels_\n",
    "\n",
    "agg = AgglomerativeClustering(n_clusters=n_clusters)\n",
    "agg.fit(X)\n",
    "    \n",
    "X['agg_label'] = agg.labels_\n",
    "train['agg_label'] = agg.labels_"
   ]
  },
  {
   "cell_type": "code",
   "execution_count": 17,
   "metadata": {},
   "outputs": [],
   "source": [
    "for x in train['Trap'].unique():\n",
    "    test.loc[test['Trap'] == x, 'kmeans_label'] = train.loc[train['Trap'] == x, 'kmeans_label'].mean()\n",
    "    test.loc[test['Trap'] == x, 'dbs_label'] = train.loc[train['Trap'] == x, 'dbs_label'].mean()\n",
    "    test.loc[test['Trap'] == x, 'agg_label'] = train.loc[train['Trap'] == x, 'agg_label'].mean()"
   ]
  },
  {
   "cell_type": "code",
   "execution_count": 18,
   "metadata": {},
   "outputs": [
    {
     "data": {
      "text/plain": [
       "Id                           0\n",
       "Date                         0\n",
       "Address                      0\n",
       "Species                      0\n",
       "Block                        0\n",
       "Street                       0\n",
       "Trap                         0\n",
       "AddressNumberAndStreet       0\n",
       "Latitude                     0\n",
       "Longitude                    0\n",
       "AddressAccuracy              0\n",
       "week_no                      0\n",
       "peak_season_diff             0\n",
       "weighted_week_no             0\n",
       "trap_weight                  0\n",
       "kmeans_label              9905\n",
       "dbs_label                 9905\n",
       "agg_label                 9905\n",
       "dtype: int64"
      ]
     },
     "execution_count": 18,
     "metadata": {},
     "output_type": "execute_result"
    }
   ],
   "source": [
    "test.isnull().sum()"
   ]
  },
  {
   "cell_type": "code",
   "execution_count": 19,
   "metadata": {},
   "outputs": [],
   "source": [
    "test.fillna(0, inplace=True)"
   ]
  },
  {
   "cell_type": "markdown",
   "metadata": {},
   "source": [
    "# Combine Weather with Train and Test Sets"
   ]
  },
  {
   "cell_type": "code",
   "execution_count": 20,
   "metadata": {},
   "outputs": [],
   "source": [
    "# make a list of the weather features and remove 'Date'\n",
    "weather_feat = list(weather.columns)\n",
    "weather_feat.remove('Date')"
   ]
  },
  {
   "cell_type": "code",
   "execution_count": 21,
   "metadata": {},
   "outputs": [],
   "source": [
    "for df in [train, test]:\n",
    "    for thing in weather_feat:\n",
    "        df[thing] = 0"
   ]
  },
  {
   "cell_type": "code",
   "execution_count": 22,
   "metadata": {},
   "outputs": [],
   "source": [
    "for _ in train['Date'].unique():  \n",
    "    for x in weather.columns[1:]:        \n",
    "        train.loc[train['Date'] == _, x] = weather.loc[weather['Date'] == _, x].values[0]\n",
    "        \n",
    "for _ in test['Date'].unique():  \n",
    "    for x in weather.columns[1:]:        \n",
    "        test.loc[test['Date'] == _, x] = weather.loc[weather['Date'] == _, x].values[0]"
   ]
  },
  {
   "cell_type": "markdown",
   "metadata": {},
   "source": [
    "# Interaction Effects:"
   ]
  },
  {
   "cell_type": "code",
   "execution_count": 23,
   "metadata": {},
   "outputs": [],
   "source": [
    "# time from peak season vs precipitation running average\n",
    "train['peak_season_diff_vs_running_Precip'] = train['peak_season_diff'] * train['running_PrecipTotal']\n",
    "test['peak_season_diff_vs_running_Precip'] = test['peak_season_diff'] * test['running_PrecipTotal']\n",
    "\n",
    "# time from peak season vs temp running average\n",
    "train['peak_season_diff_vs_running_Tavg'] = train['peak_season_diff'] * train['running_Tavg']\n",
    "test['peak_season_diff_vs_running_Tavg'] = test['peak_season_diff'] * test['running_Tavg']\n",
    "\n",
    "# time from peak season vs wind running average\n",
    "train['peak_season_diff_vs_running_AvgSpeed'] = train['peak_season_diff'] * train['running_AvgSpeed']\n",
    "test['peak_season_diff_vs_running_AvgSpeed'] = test['peak_season_diff'] * test['running_AvgSpeed']"
   ]
  },
  {
   "cell_type": "markdown",
   "metadata": {},
   "source": [
    "<hr>"
   ]
  },
  {
   "cell_type": "markdown",
   "metadata": {},
   "source": [
    "# Undersampling"
   ]
  },
  {
   "cell_type": "code",
   "execution_count": 24,
   "metadata": {
    "scrolled": true
   },
   "outputs": [],
   "source": [
    "### Undersampling (from http://blog.madhukaraphatak.com/class-imbalance-part-2/)\n",
    "\n",
    "# Number of wnv cases\n",
    "wnv = len(train[train['WnvPresent'] == 1])\n",
    "\n",
    "# non-wnv indexes\n",
    "nonwnv_index = train[train['WnvPresent'] == 0].index\n",
    "\n",
    "# random index\n",
    "rando_index = np.random.choice(nonwnv_index, wnv*2, replace=False) # Change the coef of wmv to change class balance\n",
    "\n",
    "# wnv index\n",
    "wnv_index = train[train['WnvPresent'] == 1].index\n",
    "\n",
    "# undersample\n",
    "undersample = np.concatenate([rando_index, wnv_index])\n",
    "undersample = train.loc[undersample]"
   ]
  },
  {
   "cell_type": "code",
   "execution_count": 25,
   "metadata": {},
   "outputs": [
    {
     "data": {
      "text/plain": [
       "0    770\n",
       "1    385\n",
       "Name: WnvPresent, dtype: int64"
      ]
     },
     "execution_count": 25,
     "metadata": {},
     "output_type": "execute_result"
    }
   ],
   "source": [
    "# Class balance\n",
    "undersample['WnvPresent'].value_counts()"
   ]
  },
  {
   "cell_type": "markdown",
   "metadata": {},
   "source": [
    "<hr>"
   ]
  },
  {
   "cell_type": "markdown",
   "metadata": {},
   "source": [
    "# Feature selection"
   ]
  },
  {
   "cell_type": "code",
   "execution_count": 26,
   "metadata": {},
   "outputs": [],
   "source": [
    "# Select features\n",
    "\n",
    "# categorical vars\n",
    "cat = ['agg_label']\n",
    "\n",
    "feat = ['Tavg', 'PrecipTotal', 'trap_weight', 'WetBulb',\n",
    "        'AvgSpeed',  'StnPressure', 'peak_season_diff',\n",
    "        'running_PrecipTotal', 'running_Tavg', 'running_AvgSpeed', #running weather averages \n",
    "        'peak_season_diff_vs_running_Precip', 'peak_season_diff_vs_running_Tavg', 'peak_season_diff_vs_running_AvgSpeed', # interaction effects\n",
    "       ]"
   ]
  },
  {
   "cell_type": "markdown",
   "metadata": {},
   "source": [
    "<hr>"
   ]
  },
  {
   "cell_type": "markdown",
   "metadata": {},
   "source": [
    "### Makes get_dummies for addresses, scales continuous, and concatenates."
   ]
  },
  {
   "cell_type": "code",
   "execution_count": 27,
   "metadata": {},
   "outputs": [],
   "source": [
    "### Get dummies for addresses, scale continuous features, concatenate.\n",
    "\n",
    "### Train ###\n",
    "\n",
    "address_dummies = pd.get_dummies(undersample['AddressNumberAndStreet'])\n",
    "\n",
    "# Scaling\n",
    "ss = StandardScaler()\n",
    "scaled = ss.fit_transform(undersample[feat])\n",
    "scaled = pd.DataFrame(scaled, index=undersample.index, columns=undersample[feat].columns)\n",
    "\n",
    "# Concat\n",
    "train_scaled = pd.concat([scaled, address_dummies, undersample[cat]], axis=1)\n",
    "\n",
    "\n",
    "### Test ###\n",
    "\n",
    "address_dummies = pd.get_dummies(test['AddressNumberAndStreet'])\n",
    "\n",
    "# Scaling\n",
    "ss = StandardScaler()\n",
    "test_scaled = ss.fit_transform(test[feat])\n",
    "test_scaled = pd.DataFrame(test_scaled, index=test.index, columns=test[feat].columns)\n",
    "\n",
    "# Concat\n",
    "test_scaled = pd.concat([test_scaled, address_dummies, test[cat]], axis=1)"
   ]
  },
  {
   "cell_type": "markdown",
   "metadata": {},
   "source": [
    "### Checks columns for features in test NOT in train"
   ]
  },
  {
   "cell_type": "code",
   "execution_count": 28,
   "metadata": {},
   "outputs": [
    {
     "name": "stdout",
     "output_type": "stream",
     "text": [
      "['1000  S OGLESBY AVE, Chicago, IL', '1100  S LOOMIS ST, Chicago, IL', '1100  S STATE ST, Chicago, IL', '1200  S BALTIMORE AVE, Chicago, IL', '1200  W 120TH ST, Chicago, IL', '1300  S MACKINAW, Chicago, IL', '1400  W 112TH ST, Chicago, IL', '2100  N STAVE ST, Chicago, IL', '2100  S HAMLIN AVE, Chicago, IL', '2600  E 136TH ST, Chicago, IL', '2900  N KENNETH AVE, Chicago, IL', '2900  W 85TH ST, Chicago, IL', '3400  N LONG AVE, Chicago, IL', '3700  N KILBOURN AVE, Chicago, IL', '3800  N CALIFORNIA AVE, Chicago, IL', '4000  N KEDVALE AVE, Chicago, IL', '4000  N TRIPP AVE, Chicago, IL', '4600  N MELVINA AVE, Chicago, IL', '5100  W 63RD PL, Chicago, IL', '6500  W DAKIN ST, Chicago, IL', '8100  W 37TH PL., Chicago, IL', '9600  S LONGWOOD DR, Chicago, IL']\n"
     ]
    }
   ],
   "source": [
    "# for pf\n",
    "\n",
    "# Check for columns in test not in train.\n",
    "no_addresses = [x for x in test_scaled.columns if x not in train_scaled.columns]\n",
    "\n",
    "### Print all addresses in test not in train set. ###\n",
    "print(no_addresses)\n",
    "\n",
    "# Dataset with unincluded addresses omitted.\n",
    "test_no_addresses = test_scaled.drop(no_addresses, axis=1)"
   ]
  },
  {
   "cell_type": "markdown",
   "metadata": {},
   "source": [
    "# Train Test Split"
   ]
  },
  {
   "cell_type": "code",
   "execution_count": 29,
   "metadata": {},
   "outputs": [],
   "source": [
    "# # tts for pf\n",
    "X_train, X_test, y_train, y_test = train_test_split(train_scaled, undersample['WnvPresent'], stratify=undersample['WnvPresent'])"
   ]
  },
  {
   "cell_type": "markdown",
   "metadata": {},
   "source": [
    "# Modeling Function:"
   ]
  },
  {
   "cell_type": "code",
   "execution_count": 30,
   "metadata": {},
   "outputs": [],
   "source": [
    "# instantiating dataframes that will be used to store results and parameters of models tested\n",
    "index_labels = ['Test score','Train score', 'Sensitivity', 'Specificity', 'Precision']\n",
    "all_results = pd.DataFrame(index=index_labels)\n",
    "all_params = pd.DataFrame(columns = ['Parameters'])\n",
    "\n",
    "# set dataframe options to display long strings rather than truncating them\n",
    "#     so that you can see all the parameters used\n",
    "pd.set_option('display.max_colwidth', 10000)"
   ]
  },
  {
   "cell_type": "code",
   "execution_count": 31,
   "metadata": {},
   "outputs": [],
   "source": [
    "def fit_model(model, model_name, params, all_results, all_params):\n",
    "    start_time = time.time() # this is to keep a tab on how long it takes this function to run\n",
    "    \n",
    "##################################################################################################\n",
    "# This function fits the model passed in and gridsearches over the specified parameters\n",
    "#     it then displays the results and best parameters \n",
    "#         and adds them to two dataframes that store results and parameters of all previous models\n",
    "# \n",
    "# Returns: the overall results dataframe, the best parameters dataframe, and the best fitted model\n",
    "##################################################################################################\n",
    "\n",
    "    # fit\n",
    "    model = GridSearchCV(model, params, n_jobs=-1, cv = 3)\n",
    "    model.fit(X_train, y_train)\n",
    "    \n",
    "    # pick out the best model\n",
    "    best_model = model.best_estimator_\n",
    "    \n",
    "    # make predictions\n",
    "    pred = best_model.predict(X_test)\n",
    "    \n",
    "    # make the confusion matrix\n",
    "    pred = best_model.predict(X_test)\n",
    "    tn, fp, fn, tp = confusion_matrix(y_test, pred).ravel()\n",
    "    \n",
    "    # Calculate Scores and put them in results dataframe\n",
    "    index_labels = ['Test score', 'Train score', 'Sensitivity', 'Specificity', 'Precision']\n",
    "    result = pd.DataFrame(index = index_labels, columns=[model_name])\n",
    "    result.loc['Test score'][model_name] = round(best_model.score(X_test, y_test), 3)\n",
    "    result.loc['Train score'][model_name] = round(model.best_score_, 3)\n",
    "    result.loc['Sensitivity'][model_name] = round(tp/(tp+fn), 3)\n",
    "    result.loc['Specificity'][model_name] = round(tn/(tn+fp), 3)\n",
    "    result.loc['Precision'][model_name] = round(tp/(tp+fp), 3)\n",
    "    display(result)\n",
    "    \n",
    "    # add results and params to all_results and all_params\n",
    "    all_results = pd.concat([all_results, result], axis=1)\n",
    "    result_series = pd.Series({'Parameters' : model.best_params_}, name=model_name)\n",
    "    all_params = all_params.append(result_series)\n",
    "    display(all_params.loc[[model_name]])\n",
    "    \n",
    "    # Create the confusion matrix dataframe\n",
    "    total = (tp + tn + fp + fn)\n",
    "    confusion = pd.DataFrame(index= ['Pred. Positive','Pred. Negative', 'Total'])\n",
    "    confusion['Act. Positive'] = str(round(tp/total*100, 1))+'%', str(round(fn/total*100, 1))+'%', (tp + fn)\n",
    "    confusion['Act. Negative'] = str(round(fp/total*100, 1))+'%', str(round(tn/total*100, 1))+'%', (fp + tn)\n",
    "    confusion['Total'] = (tp + fp), (fn + tn), total\n",
    "    display(confusion)\n",
    "    \n",
    "    # ROC-AUC curve\n",
    "    # make predicted probabilities to be returned for use in the ROC Curve\n",
    "    y_hat_proba = best_model.predict_proba(X_test)\n",
    "\n",
    "    # Generate False positive rate and True positive rate\n",
    "    fpr, tpr, _ = roc_curve(y_test, y_hat_proba[:,1])\n",
    "    roc_auc = auc(fpr, tpr)\n",
    "\n",
    "    # Plot \n",
    "    plt.figure(figsize=(6, 4))\n",
    "    line_width = 4\n",
    "    plt.title('ROC Curve', fontsize=25, position = (0.2,1))\n",
    "    plt.ylabel('TPR')\n",
    "    plt.xlabel('FPR')\n",
    "    plt.grid(True)\n",
    "    plt.plot(fpr, tpr, lw = line_width)\n",
    "    plt.plot([0, 1], [0,1], lw = line_width, linestyle = '--')\n",
    "    plt.show()\n",
    "    \n",
    "    # print the runtime\n",
    "    end_time = time.time()\n",
    "    print('Runtime: ', round((end_time - start_time)/60, 3), ' minutes')\n",
    "    return all_results, all_params, best_model"
   ]
  },
  {
   "cell_type": "markdown",
   "metadata": {},
   "source": [
    "# Fit Models!"
   ]
  },
  {
   "cell_type": "markdown",
   "metadata": {},
   "source": [
    "### Logisitic Regression:"
   ]
  },
  {
   "cell_type": "code",
   "execution_count": 32,
   "metadata": {
    "scrolled": true
   },
   "outputs": [
    {
     "data": {
      "text/html": [
       "<div>\n",
       "<style scoped>\n",
       "    .dataframe tbody tr th:only-of-type {\n",
       "        vertical-align: middle;\n",
       "    }\n",
       "\n",
       "    .dataframe tbody tr th {\n",
       "        vertical-align: top;\n",
       "    }\n",
       "\n",
       "    .dataframe thead th {\n",
       "        text-align: right;\n",
       "    }\n",
       "</style>\n",
       "<table border=\"1\" class=\"dataframe\">\n",
       "  <thead>\n",
       "    <tr style=\"text-align: right;\">\n",
       "      <th></th>\n",
       "      <th>Log Reg</th>\n",
       "    </tr>\n",
       "  </thead>\n",
       "  <tbody>\n",
       "    <tr>\n",
       "      <th>Test score</th>\n",
       "      <td>0.817</td>\n",
       "    </tr>\n",
       "    <tr>\n",
       "      <th>Train score</th>\n",
       "      <td>0.758</td>\n",
       "    </tr>\n",
       "    <tr>\n",
       "      <th>Sensitivity</th>\n",
       "      <td>0.646</td>\n",
       "    </tr>\n",
       "    <tr>\n",
       "      <th>Specificity</th>\n",
       "      <td>0.902</td>\n",
       "    </tr>\n",
       "    <tr>\n",
       "      <th>Precision</th>\n",
       "      <td>0.765</td>\n",
       "    </tr>\n",
       "  </tbody>\n",
       "</table>\n",
       "</div>"
      ],
      "text/plain": [
       "            Log Reg\n",
       "Test score    0.817\n",
       "Train score   0.758\n",
       "Sensitivity   0.646\n",
       "Specificity   0.902\n",
       "Precision     0.765"
      ]
     },
     "metadata": {},
     "output_type": "display_data"
    },
    {
     "data": {
      "text/html": [
       "<div>\n",
       "<style scoped>\n",
       "    .dataframe tbody tr th:only-of-type {\n",
       "        vertical-align: middle;\n",
       "    }\n",
       "\n",
       "    .dataframe tbody tr th {\n",
       "        vertical-align: top;\n",
       "    }\n",
       "\n",
       "    .dataframe thead th {\n",
       "        text-align: right;\n",
       "    }\n",
       "</style>\n",
       "<table border=\"1\" class=\"dataframe\">\n",
       "  <thead>\n",
       "    <tr style=\"text-align: right;\">\n",
       "      <th></th>\n",
       "      <th>Parameters</th>\n",
       "    </tr>\n",
       "  </thead>\n",
       "  <tbody>\n",
       "    <tr>\n",
       "      <th>Log Reg</th>\n",
       "      <td>{'C': 0.5, 'penalty': 'l1', 'solver': 'liblinear', 'tol': 0.05, 'warm_start': False}</td>\n",
       "    </tr>\n",
       "  </tbody>\n",
       "</table>\n",
       "</div>"
      ],
      "text/plain": [
       "                                                                                   Parameters\n",
       "Log Reg  {'C': 0.5, 'penalty': 'l1', 'solver': 'liblinear', 'tol': 0.05, 'warm_start': False}"
      ]
     },
     "metadata": {},
     "output_type": "display_data"
    },
    {
     "data": {
      "text/html": [
       "<div>\n",
       "<style scoped>\n",
       "    .dataframe tbody tr th:only-of-type {\n",
       "        vertical-align: middle;\n",
       "    }\n",
       "\n",
       "    .dataframe tbody tr th {\n",
       "        vertical-align: top;\n",
       "    }\n",
       "\n",
       "    .dataframe thead th {\n",
       "        text-align: right;\n",
       "    }\n",
       "</style>\n",
       "<table border=\"1\" class=\"dataframe\">\n",
       "  <thead>\n",
       "    <tr style=\"text-align: right;\">\n",
       "      <th></th>\n",
       "      <th>Act. Positive</th>\n",
       "      <th>Act. Negative</th>\n",
       "      <th>Total</th>\n",
       "    </tr>\n",
       "  </thead>\n",
       "  <tbody>\n",
       "    <tr>\n",
       "      <th>Pred. Positive</th>\n",
       "      <td>21.5%</td>\n",
       "      <td>6.6%</td>\n",
       "      <td>81</td>\n",
       "    </tr>\n",
       "    <tr>\n",
       "      <th>Pred. Negative</th>\n",
       "      <td>11.8%</td>\n",
       "      <td>60.2%</td>\n",
       "      <td>208</td>\n",
       "    </tr>\n",
       "    <tr>\n",
       "      <th>Total</th>\n",
       "      <td>96</td>\n",
       "      <td>193</td>\n",
       "      <td>289</td>\n",
       "    </tr>\n",
       "  </tbody>\n",
       "</table>\n",
       "</div>"
      ],
      "text/plain": [
       "               Act. Positive Act. Negative  Total\n",
       "Pred. Positive         21.5%          6.6%     81\n",
       "Pred. Negative         11.8%         60.2%    208\n",
       "Total                     96           193    289"
      ]
     },
     "metadata": {},
     "output_type": "display_data"
    },
    {
     "data": {
      "image/png": "[encoded data removed]",
      "text/plain": [
       "<Figure size 432x288 with 1 Axes>"
      ]
     },
     "metadata": {},
     "output_type": "display_data"
    },
    {
     "name": "stdout",
     "output_type": "stream",
     "text": [
      "Runtime:  0.019  minutes\n"
     ]
    }
   ],
   "source": [
    "params = {\n",
    "    'penalty': ['l1', 'l2'],\n",
    "    'C': [.1, 0.25, .33, 0.5, .75, 1, 2, 5, 10, 15, 20],\n",
    "    'solver': ['liblinear'],\n",
    "    'warm_start' : [True, False],\n",
    "    'tol': [0.05, 0.01, 0.005]}\n",
    "\n",
    "all_results, all_params, lr_best_model = fit_model(LogisticRegression(), 'Log Reg', #(function call, 'Name to Print'\n",
    "                                                   params, all_results, all_params)\n"
   ]
  },
  {
   "cell_type": "markdown",
   "metadata": {},
   "source": [
    "### Naive Bayes:"
   ]
  },
  {
   "cell_type": "code",
   "execution_count": 33,
   "metadata": {},
   "outputs": [
    {
     "data": {
      "text/html": [
       "<div>\n",
       "<style scoped>\n",
       "    .dataframe tbody tr th:only-of-type {\n",
       "        vertical-align: middle;\n",
       "    }\n",
       "\n",
       "    .dataframe tbody tr th {\n",
       "        vertical-align: top;\n",
       "    }\n",
       "\n",
       "    .dataframe thead th {\n",
       "        text-align: right;\n",
       "    }\n",
       "</style>\n",
       "<table border=\"1\" class=\"dataframe\">\n",
       "  <thead>\n",
       "    <tr style=\"text-align: right;\">\n",
       "      <th></th>\n",
       "      <th>Berni NB</th>\n",
       "    </tr>\n",
       "  </thead>\n",
       "  <tbody>\n",
       "    <tr>\n",
       "      <th>Test score</th>\n",
       "      <td>0.699</td>\n",
       "    </tr>\n",
       "    <tr>\n",
       "      <th>Train score</th>\n",
       "      <td>0.742</td>\n",
       "    </tr>\n",
       "    <tr>\n",
       "      <th>Sensitivity</th>\n",
       "      <td>0.667</td>\n",
       "    </tr>\n",
       "    <tr>\n",
       "      <th>Specificity</th>\n",
       "      <td>0.715</td>\n",
       "    </tr>\n",
       "    <tr>\n",
       "      <th>Precision</th>\n",
       "      <td>0.538</td>\n",
       "    </tr>\n",
       "  </tbody>\n",
       "</table>\n",
       "</div>"
      ],
      "text/plain": [
       "            Berni NB\n",
       "Test score     0.699\n",
       "Train score    0.742\n",
       "Sensitivity    0.667\n",
       "Specificity    0.715\n",
       "Precision      0.538"
      ]
     },
     "metadata": {},
     "output_type": "display_data"
    },
    {
     "data": {
      "text/html": [
       "<div>\n",
       "<style scoped>\n",
       "    .dataframe tbody tr th:only-of-type {\n",
       "        vertical-align: middle;\n",
       "    }\n",
       "\n",
       "    .dataframe tbody tr th {\n",
       "        vertical-align: top;\n",
       "    }\n",
       "\n",
       "    .dataframe thead th {\n",
       "        text-align: right;\n",
       "    }\n",
       "</style>\n",
       "<table border=\"1\" class=\"dataframe\">\n",
       "  <thead>\n",
       "    <tr style=\"text-align: right;\">\n",
       "      <th></th>\n",
       "      <th>Parameters</th>\n",
       "    </tr>\n",
       "  </thead>\n",
       "  <tbody>\n",
       "    <tr>\n",
       "      <th>Berni NB</th>\n",
       "      <td>{'alpha': 5, 'fit_prior': False}</td>\n",
       "    </tr>\n",
       "  </tbody>\n",
       "</table>\n",
       "</div>"
      ],
      "text/plain": [
       "                                Parameters\n",
       "Berni NB  {'alpha': 5, 'fit_prior': False}"
      ]
     },
     "metadata": {},
     "output_type": "display_data"
    },
    {
     "data": {
      "text/html": [
       "<div>\n",
       "<style scoped>\n",
       "    .dataframe tbody tr th:only-of-type {\n",
       "        vertical-align: middle;\n",
       "    }\n",
       "\n",
       "    .dataframe tbody tr th {\n",
       "        vertical-align: top;\n",
       "    }\n",
       "\n",
       "    .dataframe thead th {\n",
       "        text-align: right;\n",
       "    }\n",
       "</style>\n",
       "<table border=\"1\" class=\"dataframe\">\n",
       "  <thead>\n",
       "    <tr style=\"text-align: right;\">\n",
       "      <th></th>\n",
       "      <th>Act. Positive</th>\n",
       "      <th>Act. Negative</th>\n",
       "      <th>Total</th>\n",
       "    </tr>\n",
       "  </thead>\n",
       "  <tbody>\n",
       "    <tr>\n",
       "      <th>Pred. Positive</th>\n",
       "      <td>22.1%</td>\n",
       "      <td>19.0%</td>\n",
       "      <td>119</td>\n",
       "    </tr>\n",
       "    <tr>\n",
       "      <th>Pred. Negative</th>\n",
       "      <td>11.1%</td>\n",
       "      <td>47.8%</td>\n",
       "      <td>170</td>\n",
       "    </tr>\n",
       "    <tr>\n",
       "      <th>Total</th>\n",
       "      <td>96</td>\n",
       "      <td>193</td>\n",
       "      <td>289</td>\n",
       "    </tr>\n",
       "  </tbody>\n",
       "</table>\n",
       "</div>"
      ],
      "text/plain": [
       "               Act. Positive Act. Negative  Total\n",
       "Pred. Positive         22.1%         19.0%    119\n",
       "Pred. Negative         11.1%         47.8%    170\n",
       "Total                     96           193    289"
      ]
     },
     "metadata": {},
     "output_type": "display_data"
    },
    {
     "data": {
      "image/png": "[encoded data removed]",
      "text/plain": [
       "<Figure size 432x288 with 1 Axes>"
      ]
     },
     "metadata": {},
     "output_type": "display_data"
    },
    {
     "name": "stdout",
     "output_type": "stream",
     "text": [
      "Runtime:  0.008  minutes\n"
     ]
    }
   ],
   "source": [
    "# This uses BernoulliNB because we are trying to predict a binomial variable\n",
    "\n",
    "params = {\n",
    "    'fit_prior': [True, False],\n",
    "    'alpha': [0.5, 1, 2, 3, 5, 10, 15, 20]\n",
    "}\n",
    "all_results, all_params, nb_best_model = fit_model(BernoulliNB(), 'Berni NB', params, all_results, all_params)"
   ]
  },
  {
   "cell_type": "markdown",
   "metadata": {},
   "source": [
    "### SVM:"
   ]
  },
  {
   "cell_type": "code",
   "execution_count": 34,
   "metadata": {
    "scrolled": true
   },
   "outputs": [
    {
     "data": {
      "text/html": [
       "<div>\n",
       "<style scoped>\n",
       "    .dataframe tbody tr th:only-of-type {\n",
       "        vertical-align: middle;\n",
       "    }\n",
       "\n",
       "    .dataframe tbody tr th {\n",
       "        vertical-align: top;\n",
       "    }\n",
       "\n",
       "    .dataframe thead th {\n",
       "        text-align: right;\n",
       "    }\n",
       "</style>\n",
       "<table border=\"1\" class=\"dataframe\">\n",
       "  <thead>\n",
       "    <tr style=\"text-align: right;\">\n",
       "      <th></th>\n",
       "      <th>SVM</th>\n",
       "    </tr>\n",
       "  </thead>\n",
       "  <tbody>\n",
       "    <tr>\n",
       "      <th>Test score</th>\n",
       "      <td>0.799</td>\n",
       "    </tr>\n",
       "    <tr>\n",
       "      <th>Train score</th>\n",
       "      <td>0.76</td>\n",
       "    </tr>\n",
       "    <tr>\n",
       "      <th>Sensitivity</th>\n",
       "      <td>0.604</td>\n",
       "    </tr>\n",
       "    <tr>\n",
       "      <th>Specificity</th>\n",
       "      <td>0.896</td>\n",
       "    </tr>\n",
       "    <tr>\n",
       "      <th>Precision</th>\n",
       "      <td>0.744</td>\n",
       "    </tr>\n",
       "  </tbody>\n",
       "</table>\n",
       "</div>"
      ],
      "text/plain": [
       "               SVM\n",
       "Test score   0.799\n",
       "Train score   0.76\n",
       "Sensitivity  0.604\n",
       "Specificity  0.896\n",
       "Precision    0.744"
      ]
     },
     "metadata": {},
     "output_type": "display_data"
    },
    {
     "data": {
      "text/html": [
       "<div>\n",
       "<style scoped>\n",
       "    .dataframe tbody tr th:only-of-type {\n",
       "        vertical-align: middle;\n",
       "    }\n",
       "\n",
       "    .dataframe tbody tr th {\n",
       "        vertical-align: top;\n",
       "    }\n",
       "\n",
       "    .dataframe thead th {\n",
       "        text-align: right;\n",
       "    }\n",
       "</style>\n",
       "<table border=\"1\" class=\"dataframe\">\n",
       "  <thead>\n",
       "    <tr style=\"text-align: right;\">\n",
       "      <th></th>\n",
       "      <th>Parameters</th>\n",
       "    </tr>\n",
       "  </thead>\n",
       "  <tbody>\n",
       "    <tr>\n",
       "      <th>SVM</th>\n",
       "      <td>{'C': 5, 'decision_function_shape': 'ovr', 'kernel': 'rbf', 'shrinking': True}</td>\n",
       "    </tr>\n",
       "  </tbody>\n",
       "</table>\n",
       "</div>"
      ],
      "text/plain": [
       "                                                                         Parameters\n",
       "SVM  {'C': 5, 'decision_function_shape': 'ovr', 'kernel': 'rbf', 'shrinking': True}"
      ]
     },
     "metadata": {},
     "output_type": "display_data"
    },
    {
     "data": {
      "text/html": [
       "<div>\n",
       "<style scoped>\n",
       "    .dataframe tbody tr th:only-of-type {\n",
       "        vertical-align: middle;\n",
       "    }\n",
       "\n",
       "    .dataframe tbody tr th {\n",
       "        vertical-align: top;\n",
       "    }\n",
       "\n",
       "    .dataframe thead th {\n",
       "        text-align: right;\n",
       "    }\n",
       "</style>\n",
       "<table border=\"1\" class=\"dataframe\">\n",
       "  <thead>\n",
       "    <tr style=\"text-align: right;\">\n",
       "      <th></th>\n",
       "      <th>Act. Positive</th>\n",
       "      <th>Act. Negative</th>\n",
       "      <th>Total</th>\n",
       "    </tr>\n",
       "  </thead>\n",
       "  <tbody>\n",
       "    <tr>\n",
       "      <th>Pred. Positive</th>\n",
       "      <td>20.1%</td>\n",
       "      <td>6.9%</td>\n",
       "      <td>78</td>\n",
       "    </tr>\n",
       "    <tr>\n",
       "      <th>Pred. Negative</th>\n",
       "      <td>13.1%</td>\n",
       "      <td>59.9%</td>\n",
       "      <td>211</td>\n",
       "    </tr>\n",
       "    <tr>\n",
       "      <th>Total</th>\n",
       "      <td>96</td>\n",
       "      <td>193</td>\n",
       "      <td>289</td>\n",
       "    </tr>\n",
       "  </tbody>\n",
       "</table>\n",
       "</div>"
      ],
      "text/plain": [
       "               Act. Positive Act. Negative  Total\n",
       "Pred. Positive         20.1%          6.9%     78\n",
       "Pred. Negative         13.1%         59.9%    211\n",
       "Total                     96           193    289"
      ]
     },
     "metadata": {},
     "output_type": "display_data"
    },
    {
     "data": {
      "image/png": "[encoded data removed]",
      "text/plain": [
       "<Figure size 432x288 with 1 Axes>"
      ]
     },
     "metadata": {},
     "output_type": "display_data"
    },
    {
     "name": "stdout",
     "output_type": "stream",
     "text": [
      "Runtime:  0.362  minutes\n"
     ]
    }
   ],
   "source": [
    "params = {\n",
    "    'kernel': ['rbf', 'linear', 'poly', 'sigmoid'],\n",
    "    'C': [1, 1.5, 2, 5, 7, 10, 15],\n",
    "    'shrinking': [True, False],\n",
    "    'decision_function_shape' : ['ovr', 'ovo'],\n",
    "    }\n",
    "\n",
    "all_results, all_params, svm_best_model = fit_model(svm.SVC(probability=True), 'SVM', params, all_results, all_params)"
   ]
  },
  {
   "cell_type": "markdown",
   "metadata": {},
   "source": [
    "### KNN:"
   ]
  },
  {
   "cell_type": "code",
   "execution_count": 35,
   "metadata": {},
   "outputs": [
    {
     "data": {
      "text/html": [
       "<div>\n",
       "<style scoped>\n",
       "    .dataframe tbody tr th:only-of-type {\n",
       "        vertical-align: middle;\n",
       "    }\n",
       "\n",
       "    .dataframe tbody tr th {\n",
       "        vertical-align: top;\n",
       "    }\n",
       "\n",
       "    .dataframe thead th {\n",
       "        text-align: right;\n",
       "    }\n",
       "</style>\n",
       "<table border=\"1\" class=\"dataframe\">\n",
       "  <thead>\n",
       "    <tr style=\"text-align: right;\">\n",
       "      <th></th>\n",
       "      <th>KNN</th>\n",
       "    </tr>\n",
       "  </thead>\n",
       "  <tbody>\n",
       "    <tr>\n",
       "      <th>Test score</th>\n",
       "      <td>0.789</td>\n",
       "    </tr>\n",
       "    <tr>\n",
       "      <th>Train score</th>\n",
       "      <td>0.769</td>\n",
       "    </tr>\n",
       "    <tr>\n",
       "      <th>Sensitivity</th>\n",
       "      <td>0.594</td>\n",
       "    </tr>\n",
       "    <tr>\n",
       "      <th>Specificity</th>\n",
       "      <td>0.886</td>\n",
       "    </tr>\n",
       "    <tr>\n",
       "      <th>Precision</th>\n",
       "      <td>0.722</td>\n",
       "    </tr>\n",
       "  </tbody>\n",
       "</table>\n",
       "</div>"
      ],
      "text/plain": [
       "               KNN\n",
       "Test score   0.789\n",
       "Train score  0.769\n",
       "Sensitivity  0.594\n",
       "Specificity  0.886\n",
       "Precision    0.722"
      ]
     },
     "metadata": {},
     "output_type": "display_data"
    },
    {
     "data": {
      "text/html": [
       "<div>\n",
       "<style scoped>\n",
       "    .dataframe tbody tr th:only-of-type {\n",
       "        vertical-align: middle;\n",
       "    }\n",
       "\n",
       "    .dataframe tbody tr th {\n",
       "        vertical-align: top;\n",
       "    }\n",
       "\n",
       "    .dataframe thead th {\n",
       "        text-align: right;\n",
       "    }\n",
       "</style>\n",
       "<table border=\"1\" class=\"dataframe\">\n",
       "  <thead>\n",
       "    <tr style=\"text-align: right;\">\n",
       "      <th></th>\n",
       "      <th>Parameters</th>\n",
       "    </tr>\n",
       "  </thead>\n",
       "  <tbody>\n",
       "    <tr>\n",
       "      <th>KNN</th>\n",
       "      <td>{'metric': 'minkowski', 'n_neighbors': 50, 'p': 1, 'weights': 'distance'}</td>\n",
       "    </tr>\n",
       "  </tbody>\n",
       "</table>\n",
       "</div>"
      ],
      "text/plain": [
       "                                                                    Parameters\n",
       "KNN  {'metric': 'minkowski', 'n_neighbors': 50, 'p': 1, 'weights': 'distance'}"
      ]
     },
     "metadata": {},
     "output_type": "display_data"
    },
    {
     "data": {
      "text/html": [
       "<div>\n",
       "<style scoped>\n",
       "    .dataframe tbody tr th:only-of-type {\n",
       "        vertical-align: middle;\n",
       "    }\n",
       "\n",
       "    .dataframe tbody tr th {\n",
       "        vertical-align: top;\n",
       "    }\n",
       "\n",
       "    .dataframe thead th {\n",
       "        text-align: right;\n",
       "    }\n",
       "</style>\n",
       "<table border=\"1\" class=\"dataframe\">\n",
       "  <thead>\n",
       "    <tr style=\"text-align: right;\">\n",
       "      <th></th>\n",
       "      <th>Act. Positive</th>\n",
       "      <th>Act. Negative</th>\n",
       "      <th>Total</th>\n",
       "    </tr>\n",
       "  </thead>\n",
       "  <tbody>\n",
       "    <tr>\n",
       "      <th>Pred. Positive</th>\n",
       "      <td>19.7%</td>\n",
       "      <td>7.6%</td>\n",
       "      <td>79</td>\n",
       "    </tr>\n",
       "    <tr>\n",
       "      <th>Pred. Negative</th>\n",
       "      <td>13.5%</td>\n",
       "      <td>59.2%</td>\n",
       "      <td>210</td>\n",
       "    </tr>\n",
       "    <tr>\n",
       "      <th>Total</th>\n",
       "      <td>96</td>\n",
       "      <td>193</td>\n",
       "      <td>289</td>\n",
       "    </tr>\n",
       "  </tbody>\n",
       "</table>\n",
       "</div>"
      ],
      "text/plain": [
       "               Act. Positive Act. Negative  Total\n",
       "Pred. Positive         19.7%          7.6%     79\n",
       "Pred. Negative         13.5%         59.2%    210\n",
       "Total                     96           193    289"
      ]
     },
     "metadata": {},
     "output_type": "display_data"
    },
    {
     "data": {
      "image/png": "[encoded data removed]",
      "text/plain": [
       "<Figure size 432x288 with 1 Axes>"
      ]
     },
     "metadata": {},
     "output_type": "display_data"
    },
    {
     "name": "stdout",
     "output_type": "stream",
     "text": [
      "Runtime:  0.07  minutes\n"
     ]
    }
   ],
   "source": [
    "params = {\n",
    "    'n_neighbors': [3, 4, 5, 10, 15, 20, 30, 40, 50],\n",
    "    'weights': ['distance'],\n",
    "    'metric': ['minkowski'],\n",
    "    'p': [1, 2, 3] # p = 1 and 2 correspondes to Manhattan and Euclidean distance metrics repsectively\n",
    "}\n",
    "all_results, all_params, knn_best_model = fit_model(KNeighborsClassifier(), 'KNN', params, all_results, all_params)"
   ]
  },
  {
   "cell_type": "markdown",
   "metadata": {},
   "source": [
    "### Random Forest:"
   ]
  },
  {
   "cell_type": "code",
   "execution_count": 36,
   "metadata": {
    "scrolled": false
   },
   "outputs": [
    {
     "data": {
      "text/html": [
       "<div>\n",
       "<style scoped>\n",
       "    .dataframe tbody tr th:only-of-type {\n",
       "        vertical-align: middle;\n",
       "    }\n",
       "\n",
       "    .dataframe tbody tr th {\n",
       "        vertical-align: top;\n",
       "    }\n",
       "\n",
       "    .dataframe thead th {\n",
       "        text-align: right;\n",
       "    }\n",
       "</style>\n",
       "<table border=\"1\" class=\"dataframe\">\n",
       "  <thead>\n",
       "    <tr style=\"text-align: right;\">\n",
       "      <th></th>\n",
       "      <th>Random Forest</th>\n",
       "    </tr>\n",
       "  </thead>\n",
       "  <tbody>\n",
       "    <tr>\n",
       "      <th>Test score</th>\n",
       "      <td>0.772</td>\n",
       "    </tr>\n",
       "    <tr>\n",
       "      <th>Train score</th>\n",
       "      <td>0.786</td>\n",
       "    </tr>\n",
       "    <tr>\n",
       "      <th>Sensitivity</th>\n",
       "      <td>0.458</td>\n",
       "    </tr>\n",
       "    <tr>\n",
       "      <th>Specificity</th>\n",
       "      <td>0.927</td>\n",
       "    </tr>\n",
       "    <tr>\n",
       "      <th>Precision</th>\n",
       "      <td>0.759</td>\n",
       "    </tr>\n",
       "  </tbody>\n",
       "</table>\n",
       "</div>"
      ],
      "text/plain": [
       "            Random Forest\n",
       "Test score          0.772\n",
       "Train score         0.786\n",
       "Sensitivity         0.458\n",
       "Specificity         0.927\n",
       "Precision           0.759"
      ]
     },
     "metadata": {},
     "output_type": "display_data"
    },
    {
     "data": {
      "text/html": [
       "<div>\n",
       "<style scoped>\n",
       "    .dataframe tbody tr th:only-of-type {\n",
       "        vertical-align: middle;\n",
       "    }\n",
       "\n",
       "    .dataframe tbody tr th {\n",
       "        vertical-align: top;\n",
       "    }\n",
       "\n",
       "    .dataframe thead th {\n",
       "        text-align: right;\n",
       "    }\n",
       "</style>\n",
       "<table border=\"1\" class=\"dataframe\">\n",
       "  <thead>\n",
       "    <tr style=\"text-align: right;\">\n",
       "      <th></th>\n",
       "      <th>Parameters</th>\n",
       "    </tr>\n",
       "  </thead>\n",
       "  <tbody>\n",
       "    <tr>\n",
       "      <th>Random Forest</th>\n",
       "      <td>{'bootstrap': False, 'max_depth': 7, 'max_features': 11, 'max_leaf_nodes': None, 'min_samples_leaf': 6, 'min_samples_split': 4, 'n_estimators': 75}</td>\n",
       "    </tr>\n",
       "  </tbody>\n",
       "</table>\n",
       "</div>"
      ],
      "text/plain": [
       "                                                                                                                                                        Parameters\n",
       "Random Forest  {'bootstrap': False, 'max_depth': 7, 'max_features': 11, 'max_leaf_nodes': None, 'min_samples_leaf': 6, 'min_samples_split': 4, 'n_estimators': 75}"
      ]
     },
     "metadata": {},
     "output_type": "display_data"
    },
    {
     "data": {
      "text/html": [
       "<div>\n",
       "<style scoped>\n",
       "    .dataframe tbody tr th:only-of-type {\n",
       "        vertical-align: middle;\n",
       "    }\n",
       "\n",
       "    .dataframe tbody tr th {\n",
       "        vertical-align: top;\n",
       "    }\n",
       "\n",
       "    .dataframe thead th {\n",
       "        text-align: right;\n",
       "    }\n",
       "</style>\n",
       "<table border=\"1\" class=\"dataframe\">\n",
       "  <thead>\n",
       "    <tr style=\"text-align: right;\">\n",
       "      <th></th>\n",
       "      <th>Act. Positive</th>\n",
       "      <th>Act. Negative</th>\n",
       "      <th>Total</th>\n",
       "    </tr>\n",
       "  </thead>\n",
       "  <tbody>\n",
       "    <tr>\n",
       "      <th>Pred. Positive</th>\n",
       "      <td>15.2%</td>\n",
       "      <td>4.8%</td>\n",
       "      <td>58</td>\n",
       "    </tr>\n",
       "    <tr>\n",
       "      <th>Pred. Negative</th>\n",
       "      <td>18.0%</td>\n",
       "      <td>61.9%</td>\n",
       "      <td>231</td>\n",
       "    </tr>\n",
       "    <tr>\n",
       "      <th>Total</th>\n",
       "      <td>96</td>\n",
       "      <td>193</td>\n",
       "      <td>289</td>\n",
       "    </tr>\n",
       "  </tbody>\n",
       "</table>\n",
       "</div>"
      ],
      "text/plain": [
       "               Act. Positive Act. Negative  Total\n",
       "Pred. Positive         15.2%          4.8%     58\n",
       "Pred. Negative         18.0%         61.9%    231\n",
       "Total                     96           193    289"
      ]
     },
     "metadata": {},
     "output_type": "display_data"
    },
    {
     "data": {
      "image/png": "[encoded data removed]",
      "text/plain": [
       "<Figure size 432x288 with 1 Axes>"
      ]
     },
     "metadata": {},
     "output_type": "display_data"
    },
    {
     "name": "stdout",
     "output_type": "stream",
     "text": [
      "Runtime:  0.129  minutes\n",
      "Max features default:  11.9582607431\n"
     ]
    },
    {
     "data": {
      "text/plain": [
       "<matplotlib.axes._subplots.AxesSubplot at 0x105a84208>"
      ]
     },
     "execution_count": 36,
     "metadata": {},
     "output_type": "execute_result"
    },
    {
     "data": {
      "image/png": "[encoded data removed]",
      "text/plain": [
       "<Figure size 432x288 with 1 Axes>"
      ]
     },
     "metadata": {},
     "output_type": "display_data"
    }
   ],
   "source": [
    "max_feat_default = np.sqrt(len(X_train.columns))\n",
    "max_feat_to_check = range(\n",
    "                        int(max_feat_default - 0 * max_feat_default), # 0% lowerbound of default setting: sqrt(features)\n",
    "                        int(max_feat_default + 4 * max_feat_default), # 200% upperbound of default setting: sqrt(features)\n",
    "                        int(2 * max_feat_default)) # Step size: 50% of default: sqrt(features)\n",
    "# max_feat_to_check.append(None)\n",
    "\n",
    "params = {\n",
    "    'n_estimators': [60, 75, 90],\n",
    "    'min_samples_split': [3, 4],\n",
    "    'min_samples_leaf': [6, 7],\n",
    "    'bootstrap': [False],\n",
    "    'max_depth':[7, 10],\n",
    "    'max_leaf_nodes': [None],\n",
    "    'max_features': max_feat_to_check\n",
    "}\n",
    "all_results, all_params, rf_best_model = fit_model(RandomForestClassifier(), 'Random Forest', params, all_results, all_params)\n",
    "\n",
    "print('Max features default: ', max_feat_default)\n",
    "\n",
    "# Top features\n",
    "feat_importance = pd.DataFrame(rf_best_model.feature_importances_, index=X_train.columns).sort_values(by=0, ascending=False)\n",
    "feat_importance.head(10).plot(kind='barh')"
   ]
  },
  {
   "cell_type": "markdown",
   "metadata": {},
   "source": [
    "## ExtraTrees:"
   ]
  },
  {
   "cell_type": "code",
   "execution_count": 37,
   "metadata": {},
   "outputs": [
    {
     "data": {
      "text/html": [
       "<div>\n",
       "<style scoped>\n",
       "    .dataframe tbody tr th:only-of-type {\n",
       "        vertical-align: middle;\n",
       "    }\n",
       "\n",
       "    .dataframe tbody tr th {\n",
       "        vertical-align: top;\n",
       "    }\n",
       "\n",
       "    .dataframe thead th {\n",
       "        text-align: right;\n",
       "    }\n",
       "</style>\n",
       "<table border=\"1\" class=\"dataframe\">\n",
       "  <thead>\n",
       "    <tr style=\"text-align: right;\">\n",
       "      <th></th>\n",
       "      <th>Extra Trees</th>\n",
       "    </tr>\n",
       "  </thead>\n",
       "  <tbody>\n",
       "    <tr>\n",
       "      <th>Test score</th>\n",
       "      <td>0.789</td>\n",
       "    </tr>\n",
       "    <tr>\n",
       "      <th>Train score</th>\n",
       "      <td>0.789</td>\n",
       "    </tr>\n",
       "    <tr>\n",
       "      <th>Sensitivity</th>\n",
       "      <td>0.573</td>\n",
       "    </tr>\n",
       "    <tr>\n",
       "      <th>Specificity</th>\n",
       "      <td>0.896</td>\n",
       "    </tr>\n",
       "    <tr>\n",
       "      <th>Precision</th>\n",
       "      <td>0.733</td>\n",
       "    </tr>\n",
       "  </tbody>\n",
       "</table>\n",
       "</div>"
      ],
      "text/plain": [
       "            Extra Trees\n",
       "Test score        0.789\n",
       "Train score       0.789\n",
       "Sensitivity       0.573\n",
       "Specificity       0.896\n",
       "Precision         0.733"
      ]
     },
     "metadata": {},
     "output_type": "display_data"
    },
    {
     "data": {
      "text/html": [
       "<div>\n",
       "<style scoped>\n",
       "    .dataframe tbody tr th:only-of-type {\n",
       "        vertical-align: middle;\n",
       "    }\n",
       "\n",
       "    .dataframe tbody tr th {\n",
       "        vertical-align: top;\n",
       "    }\n",
       "\n",
       "    .dataframe thead th {\n",
       "        text-align: right;\n",
       "    }\n",
       "</style>\n",
       "<table border=\"1\" class=\"dataframe\">\n",
       "  <thead>\n",
       "    <tr style=\"text-align: right;\">\n",
       "      <th></th>\n",
       "      <th>Parameters</th>\n",
       "    </tr>\n",
       "  </thead>\n",
       "  <tbody>\n",
       "    <tr>\n",
       "      <th>Extra Trees</th>\n",
       "      <td>{'bootstrap': False, 'max_depth': 10, 'max_features': None, 'max_leaf_nodes': 10, 'min_samples_leaf': 4, 'min_samples_split': 6, 'n_estimators': 60}</td>\n",
       "    </tr>\n",
       "  </tbody>\n",
       "</table>\n",
       "</div>"
      ],
      "text/plain": [
       "                                                                                                                                                       Parameters\n",
       "Extra Trees  {'bootstrap': False, 'max_depth': 10, 'max_features': None, 'max_leaf_nodes': 10, 'min_samples_leaf': 4, 'min_samples_split': 6, 'n_estimators': 60}"
      ]
     },
     "metadata": {},
     "output_type": "display_data"
    },
    {
     "data": {
      "text/html": [
       "<div>\n",
       "<style scoped>\n",
       "    .dataframe tbody tr th:only-of-type {\n",
       "        vertical-align: middle;\n",
       "    }\n",
       "\n",
       "    .dataframe tbody tr th {\n",
       "        vertical-align: top;\n",
       "    }\n",
       "\n",
       "    .dataframe thead th {\n",
       "        text-align: right;\n",
       "    }\n",
       "</style>\n",
       "<table border=\"1\" class=\"dataframe\">\n",
       "  <thead>\n",
       "    <tr style=\"text-align: right;\">\n",
       "      <th></th>\n",
       "      <th>Act. Positive</th>\n",
       "      <th>Act. Negative</th>\n",
       "      <th>Total</th>\n",
       "    </tr>\n",
       "  </thead>\n",
       "  <tbody>\n",
       "    <tr>\n",
       "      <th>Pred. Positive</th>\n",
       "      <td>19.0%</td>\n",
       "      <td>6.9%</td>\n",
       "      <td>75</td>\n",
       "    </tr>\n",
       "    <tr>\n",
       "      <th>Pred. Negative</th>\n",
       "      <td>14.2%</td>\n",
       "      <td>59.9%</td>\n",
       "      <td>214</td>\n",
       "    </tr>\n",
       "    <tr>\n",
       "      <th>Total</th>\n",
       "      <td>96</td>\n",
       "      <td>193</td>\n",
       "      <td>289</td>\n",
       "    </tr>\n",
       "  </tbody>\n",
       "</table>\n",
       "</div>"
      ],
      "text/plain": [
       "               Act. Positive Act. Negative  Total\n",
       "Pred. Positive         19.0%          6.9%     75\n",
       "Pred. Negative         14.2%         59.9%    214\n",
       "Total                     96           193    289"
      ]
     },
     "metadata": {},
     "output_type": "display_data"
    },
    {
     "data": {
      "image/png": "[encoded data removed]",
      "text/plain": [
       "<Figure size 432x288 with 1 Axes>"
      ]
     },
     "metadata": {},
     "output_type": "display_data"
    },
    {
     "name": "stdout",
     "output_type": "stream",
     "text": [
      "Runtime:  0.333  minutes\n"
     ]
    },
    {
     "data": {
      "text/plain": [
       "<matplotlib.axes._subplots.AxesSubplot at 0x105aa2978>"
      ]
     },
     "execution_count": 37,
     "metadata": {},
     "output_type": "execute_result"
    },
    {
     "data": {
      "image/png": "[encoded data removed]",
      "text/plain": [
       "<Figure size 432x288 with 1 Axes>"
      ]
     },
     "metadata": {},
     "output_type": "display_data"
    }
   ],
   "source": [
    "# Extra Trees\n",
    "et_params = {\n",
    "    'n_estimators': [60, 75, 90],\n",
    "    'min_samples_split': [5, 6],\n",
    "    'min_samples_leaf': [3, 4, 5],\n",
    "    'max_depth':[5, 10, 20],\n",
    "    'max_leaf_nodes': [10, 20, 30],\n",
    "    'bootstrap': [False],\n",
    "    'max_features': [None]\n",
    "}\n",
    "\n",
    "all_results, all_params, et_best_model = fit_model(ExtraTreesClassifier(), 'Extra Trees', et_params, all_results, all_params)\n",
    "\n",
    "\n",
    "# plot important features\n",
    "feat_importance = pd.DataFrame(et_best_model.feature_importances_, X_train.columns, columns=['importance'])\n",
    "feat_importance.sort_values('importance', ascending=False).head(10).plot(kind='barh')"
   ]
  },
  {
   "cell_type": "markdown",
   "metadata": {},
   "source": [
    "<hr>\n",
    "# Results from all Models Tested:"
   ]
  },
  {
   "cell_type": "code",
   "execution_count": 38,
   "metadata": {},
   "outputs": [
    {
     "data": {
      "text/html": [
       "<div>\n",
       "<style scoped>\n",
       "    .dataframe tbody tr th:only-of-type {\n",
       "        vertical-align: middle;\n",
       "    }\n",
       "\n",
       "    .dataframe tbody tr th {\n",
       "        vertical-align: top;\n",
       "    }\n",
       "\n",
       "    .dataframe thead th {\n",
       "        text-align: right;\n",
       "    }\n",
       "</style>\n",
       "<table border=\"1\" class=\"dataframe\">\n",
       "  <thead>\n",
       "    <tr style=\"text-align: right;\">\n",
       "      <th></th>\n",
       "      <th>Log Reg</th>\n",
       "      <th>Berni NB</th>\n",
       "      <th>SVM</th>\n",
       "      <th>KNN</th>\n",
       "      <th>Random Forest</th>\n",
       "      <th>Extra Trees</th>\n",
       "      <th>Overall Average Score</th>\n",
       "    </tr>\n",
       "  </thead>\n",
       "  <tbody>\n",
       "    <tr>\n",
       "      <th>Test score</th>\n",
       "      <td>0.817</td>\n",
       "      <td>0.699</td>\n",
       "      <td>0.799</td>\n",
       "      <td>0.789</td>\n",
       "      <td>0.772</td>\n",
       "      <td>0.789</td>\n",
       "      <td>0.778</td>\n",
       "    </tr>\n",
       "    <tr>\n",
       "      <th>Train score</th>\n",
       "      <td>0.758</td>\n",
       "      <td>0.742</td>\n",
       "      <td>0.76</td>\n",
       "      <td>0.769</td>\n",
       "      <td>0.786</td>\n",
       "      <td>0.789</td>\n",
       "      <td>0.767</td>\n",
       "    </tr>\n",
       "    <tr>\n",
       "      <th>Sensitivity</th>\n",
       "      <td>0.646</td>\n",
       "      <td>0.667</td>\n",
       "      <td>0.604</td>\n",
       "      <td>0.594</td>\n",
       "      <td>0.458</td>\n",
       "      <td>0.573</td>\n",
       "      <td>0.590</td>\n",
       "    </tr>\n",
       "    <tr>\n",
       "      <th>Specificity</th>\n",
       "      <td>0.902</td>\n",
       "      <td>0.715</td>\n",
       "      <td>0.896</td>\n",
       "      <td>0.886</td>\n",
       "      <td>0.927</td>\n",
       "      <td>0.896</td>\n",
       "      <td>0.870</td>\n",
       "    </tr>\n",
       "    <tr>\n",
       "      <th>Precision</th>\n",
       "      <td>0.765</td>\n",
       "      <td>0.538</td>\n",
       "      <td>0.744</td>\n",
       "      <td>0.722</td>\n",
       "      <td>0.759</td>\n",
       "      <td>0.733</td>\n",
       "      <td>0.710</td>\n",
       "    </tr>\n",
       "  </tbody>\n",
       "</table>\n",
       "</div>"
      ],
      "text/plain": [
       "            Log Reg Berni NB    SVM    KNN Random Forest Extra Trees  \\\n",
       "Test score    0.817    0.699  0.799  0.789         0.772       0.789   \n",
       "Train score   0.758    0.742   0.76  0.769         0.786       0.789   \n",
       "Sensitivity   0.646    0.667  0.604  0.594         0.458       0.573   \n",
       "Specificity   0.902    0.715  0.896  0.886         0.927       0.896   \n",
       "Precision     0.765    0.538  0.744  0.722         0.759       0.733   \n",
       "\n",
       "             Overall Average Score  \n",
       "Test score                   0.778  \n",
       "Train score                  0.767  \n",
       "Sensitivity                  0.590  \n",
       "Specificity                  0.870  \n",
       "Precision                    0.710  "
      ]
     },
     "metadata": {},
     "output_type": "display_data"
    },
    {
     "data": {
      "text/html": [
       "<div>\n",
       "<style scoped>\n",
       "    .dataframe tbody tr th:only-of-type {\n",
       "        vertical-align: middle;\n",
       "    }\n",
       "\n",
       "    .dataframe tbody tr th {\n",
       "        vertical-align: top;\n",
       "    }\n",
       "\n",
       "    .dataframe thead th {\n",
       "        text-align: right;\n",
       "    }\n",
       "</style>\n",
       "<table border=\"1\" class=\"dataframe\">\n",
       "  <thead>\n",
       "    <tr style=\"text-align: right;\">\n",
       "      <th></th>\n",
       "      <th>Parameters</th>\n",
       "    </tr>\n",
       "  </thead>\n",
       "  <tbody>\n",
       "    <tr>\n",
       "      <th>Log Reg</th>\n",
       "      <td>{'C': 0.5, 'penalty': 'l1', 'solver': 'liblinear', 'tol': 0.05, 'warm_start': False}</td>\n",
       "    </tr>\n",
       "    <tr>\n",
       "      <th>Berni NB</th>\n",
       "      <td>{'alpha': 5, 'fit_prior': False}</td>\n",
       "    </tr>\n",
       "    <tr>\n",
       "      <th>SVM</th>\n",
       "      <td>{'C': 5, 'decision_function_shape': 'ovr', 'kernel': 'rbf', 'shrinking': True}</td>\n",
       "    </tr>\n",
       "    <tr>\n",
       "      <th>KNN</th>\n",
       "      <td>{'metric': 'minkowski', 'n_neighbors': 50, 'p': 1, 'weights': 'distance'}</td>\n",
       "    </tr>\n",
       "    <tr>\n",
       "      <th>Random Forest</th>\n",
       "      <td>{'bootstrap': False, 'max_depth': 7, 'max_features': 11, 'max_leaf_nodes': None, 'min_samples_leaf': 6, 'min_samples_split': 4, 'n_estimators': 75}</td>\n",
       "    </tr>\n",
       "    <tr>\n",
       "      <th>Extra Trees</th>\n",
       "      <td>{'bootstrap': False, 'max_depth': 10, 'max_features': None, 'max_leaf_nodes': 10, 'min_samples_leaf': 4, 'min_samples_split': 6, 'n_estimators': 60}</td>\n",
       "    </tr>\n",
       "  </tbody>\n",
       "</table>\n",
       "</div>"
      ],
      "text/plain": [
       "                                                                                                                                                         Parameters\n",
       "Log Reg                                                                        {'C': 0.5, 'penalty': 'l1', 'solver': 'liblinear', 'tol': 0.05, 'warm_start': False}\n",
       "Berni NB                                                                                                                           {'alpha': 5, 'fit_prior': False}\n",
       "SVM                                                                                  {'C': 5, 'decision_function_shape': 'ovr', 'kernel': 'rbf', 'shrinking': True}\n",
       "KNN                                                                                       {'metric': 'minkowski', 'n_neighbors': 50, 'p': 1, 'weights': 'distance'}\n",
       "Random Forest   {'bootstrap': False, 'max_depth': 7, 'max_features': 11, 'max_leaf_nodes': None, 'min_samples_leaf': 6, 'min_samples_split': 4, 'n_estimators': 75}\n",
       "Extra Trees    {'bootstrap': False, 'max_depth': 10, 'max_features': None, 'max_leaf_nodes': 10, 'min_samples_leaf': 4, 'min_samples_split': 6, 'n_estimators': 60}"
      ]
     },
     "metadata": {},
     "output_type": "display_data"
    }
   ],
   "source": [
    "all_results['Overall Average Score'] = round(all_results.mean(axis=1), 3)\n",
    "display(all_results)\n",
    "display(all_params)"
   ]
  },
  {
   "cell_type": "markdown",
   "metadata": {},
   "source": [
    "<hr>\n",
    "# Make Predictions and Save to .CSV"
   ]
  },
  {
   "cell_type": "code",
   "execution_count": 43,
   "metadata": {},
   "outputs": [],
   "source": [
    "# Make predictions on the test set with one of the best models\n",
    "pred = svm_best_model.predict(test_no_addresses)"
   ]
  },
  {
   "cell_type": "code",
   "execution_count": 44,
   "metadata": {},
   "outputs": [
    {
     "data": {
      "text/plain": [
       "0    92800\n",
       "1    23493\n",
       "Name: 0, dtype: int64"
      ]
     },
     "execution_count": 44,
     "metadata": {},
     "output_type": "execute_result"
    }
   ],
   "source": [
    "# Check predictions to see if it worked.\n",
    "pd.DataFrame(pred)[0].value_counts()"
   ]
  },
  {
   "cell_type": "code",
   "execution_count": 45,
   "metadata": {},
   "outputs": [],
   "source": [
    "# Make .csv\n",
    "submission = pd.concat([test['Id'], pd.Series(pred)], axis=1).set_index('Id')\n",
    "submission = submission.rename({0: 'WnvPresent'}, axis='columns')\n",
    "submission.to_csv('submission/submission_' + str(int(time.time())) + '.csv')"
   ]
  },
  {
   "cell_type": "code",
   "execution_count": 46,
   "metadata": {},
   "outputs": [
    {
     "name": "stdout",
     "output_type": "stream",
     "text": [
      "Overall Runtime:  4.354  minutes\n"
     ]
    }
   ],
   "source": [
    "# print the runtime\n",
    "all_end_time = time.time()\n",
    "print('Overall Runtime: ', round((all_end_time - all_start_time)/60, 3), ' minutes')"
   ]
  },
  {
   "cell_type": "code",
   "execution_count": null,
   "metadata": {},
   "outputs": [],
   "source": []
  }
 ],
 "metadata": {
  "kernelspec": {
   "display_name": "Python 3",
   "language": "python",
   "name": "python3"
  },
  "language_info": {
   "codemirror_mode": {
    "name": "ipython",
    "version": 3
   },
   "file_extension": ".py",
   "mimetype": "text/x-python",
   "name": "python",
   "nbconvert_exporter": "python",
   "pygments_lexer": "ipython3",
   "version": "3.6.5"
  }
 },
 "nbformat": 4,
 "nbformat_minor": 2
}
